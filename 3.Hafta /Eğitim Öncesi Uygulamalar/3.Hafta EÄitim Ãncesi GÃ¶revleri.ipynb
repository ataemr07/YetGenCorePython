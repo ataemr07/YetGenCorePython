{
  "cells": [
    {
      "cell_type": "markdown",
      "metadata": {
        "id": "tsD4YVAe_Te2"
      },
      "source": [
        "# Problem 1\n",
        "Bir sayının 7'ye bölünebilir olup olmadığını kontrol etmek \n",
        "için bir program yazın.\n",
        "\n",
        "İpucu: Mod operatörünü (%) kullanabilirsiniz."
      ]
    },
    {
      "cell_type": "code",
      "execution_count": 2,
      "metadata": {
        "id": "NGjvNwKx_Te7"
      },
      "outputs": [
        {
          "name": "stdout",
          "output_type": "stream",
          "text": [
            "7 7 ye bölünebilir.\n"
          ]
        }
      ],
      "source": [
        "# 1.Problemin Çözümünü Buraya Yazınız\n",
        "sayı= int(input(\"lütfen sayı gir:\"))\n",
        "\n",
        "if sayı % 7==0 :\n",
        "    print(f\"{sayı} 7 ye bölünebilir.\")\n",
        "else:\n",
        "    print(\"bu sayı 7 ye bölünmez.\")\n",
        "\n",
        "\n",
        "\n"
      ]
    },
    {
      "cell_type": "markdown",
      "metadata": {
        "id": "Kg3qiBAI_Te8"
      },
      "source": [
        "# Problem 2\n",
        "Kullanıcıdan vize ve final notu isteyin. Girilen vize notunun %40’ı ve \n",
        "girilen finalnotunun ise %60’ı alınarak yıl sonu not ortalaması hesaplanacaktır. \n",
        "\n",
        "Bu not ortalaması eğer 85 ve üzeri ise AA, \n",
        "\n",
        "75 ve 85 arasında ise BA, \n",
        "\n",
        "70 ve 75 arasında ise BB, \n",
        "\n",
        "65 ve 70 arasında ise CB,\n",
        "\n",
        "60 ve 65 arasında ise CC,\n",
        "\n",
        "55 ve 60 arasında ise DC,\n",
        "\n",
        "50 ve 55 arasında ise DD olarak hesaplanacaktır. \n",
        "\n",
        "Bu öğrencinin yıl sonu toplam notu 50’nin altında ise FF ile dersten kalacaktır. \n",
        "\n",
        "Ayrıca öğrencinin final notu 50’nin altında ise direkt FF ile kalacaktır."
      ]
    },
    {
      "cell_type": "code",
      "execution_count": null,
      "metadata": {
        "id": "MXTtCxI1_Te8"
      },
      "outputs": [],
      "source": [
        "# 2.Problemin Çözümünü Buraya Yazınız\n",
        "vıze= int(input(\"lütfen vize notunuzu giriniz:\"))\n",
        "fınal= int(input(\"lütfen final notunuzu giriniz:\"))\n",
        "\n",
        "x= fınal*0.6+vıze*0.4\n",
        "\n",
        "if fınal < 50 :\n",
        "    print(\"final notunuz 50 altonda kaldınız\")\n",
        "elif x >= 85 and x < 100:\n",
        "    print(\"not ortalamanız AA\")\n",
        "elif x >=75 and x<85 :\n",
        "    print(\"not ortalamanız BA\")\n",
        "elif x>= 70 and x<75 :\n",
        "    print(\"not ortalamanız BB\")\n",
        "elif x>= 65 and x<70 :\n",
        "    print(\"not ortalamanız BC\")\n",
        "elif x>= 60 and x<65 :\n",
        "    print(\"not ortalamanız CC\")\n",
        "elif x>=55 and x<60 :\n",
        "    print(\"not ortalamanız DC\")\n",
        "elif x>=50 and x<55 :\n",
        "    print(\"not ortalamanız DD\")\n",
        "elif x >=0 and x<50 :\n",
        "    print(\"not ortalamanız FF\")\n",
        "    print(\"dersten kaldınız\")\n",
        "else:\n",
        "    print(\"yanlış bir not girdiniz\")"
      ]
    },
    {
      "cell_type": "markdown",
      "metadata": {
        "id": "tAoRYCTC_Te8"
      },
      "source": [
        "# Problem 3\n",
        "İki YetGenli Zirve'de karşılaşıyorlar. Birbirlerini tanımak için sorular soruyorlar. Birbirlerine yaşlarını soruyorlar. Akıllarına bir Python programı yazıp, yaşlarını ve isimlerini giriyorlar. Büyük olanın yaşını ekrana yazdıran programı yazıyorlar. Sende bu iki YetGenli'ye destek olmak ister misin?\n",
        "\n",
        "```\n",
        "Birinci YetGenlinin ismi: Ahmet\n",
        "Birinci YetGenlinin yaşı : 20\n",
        "İkinci YetGenlinin ismi: Mehmet\n",
        "İkinci YetGenlinin yaşı : 25\n",
        "Mehmet'in yaşı daha büyük ve yaşı 25'tir.\n",
        "```"
      ]
    },
    {
      "cell_type": "code",
      "execution_count": 40,
      "metadata": {
        "id": "bPjE8W0i_Te8"
      },
      "outputs": [
        {
          "name": "stdout",
          "output_type": "stream",
          "text": [
            "ahmet mehmet'dan daha büyük.\n"
          ]
        }
      ],
      "source": [
        "# 3.Problemin Çözümünü Buraya Yazınız\n",
        "isim1 = input(\"Lütfen ilk kişinin adını girin: \")\n",
        "yas1 = int(input(\"Lütfen ilk kişinin yaşını girin: \"))\n",
        "\n",
        "\n",
        "isim2 = input(\"Lütfen ikinci kişinin adını girin: \")\n",
        "yas2 = int(input(\"Lütfen ikinci kişinin yaşını girin: \"))\n",
        "\n",
        "\n",
        "if yas1 > yas2:\n",
        "    print(f\"{isim1} {isim2}'dan daha büyük.\")\n",
        "elif yas2 > yas1:\n",
        "    print(f\"{isim2} {isim1}'dan daha büyük.\")\n",
        "else:\n",
        "    print(\"İki kişinin yaşı da eşit.\")"
      ]
    },
    {
      "cell_type": "markdown",
      "metadata": {
        "id": "zBVv8Tyg_Te9"
      },
      "source": [
        "# Problem 4\n",
        "Pandemi döneminde AVM'lerde ateş ölçümü yapılıyor. AVM'ye giren kişinin ateş ölçümü 37.5 derecenin altında ise girişe izin veriliyor. 37.5 derecenin üstünde ise girişe izin verilmiyor. AVM'ye girişe izin verilip verilmediğini ekrana yazdıran bir program yazın.\n",
        "\n",
        "Program sonunda şöyle bir çıktı elde etmelisiniz:\n",
        "\n",
        "```\n",
        "Ateşiniz 37.5 derece. AVM'ye girebilirsin! Maske takmayı unutma!\n",
        "Ateşiniz 37.6 derece. AVM'ye giremezsin! Hemen evine dön!\n",
        "```"
      ]
    },
    {
      "cell_type": "code",
      "execution_count": 17,
      "metadata": {
        "id": "TSAXs8et_Te9"
      },
      "outputs": [
        {
          "name": "stdout",
          "output_type": "stream",
          "text": [
            "Ateşiniz 57.0 derece. AVM' ye giremezsin! Hemen evine dön!\n"
          ]
        }
      ],
      "source": [
        "# 4.Problemin Çözümünü Buraya Yazınız\n",
        "\n",
        "derece= float(input(\"Dereceni gir: \"))\n",
        "if derece > 37.5 :\n",
        "    print(f\"Ateşiniz {derece} derece. AVM' ye giremezsin! Hemen evine dön!\")\n",
        "else : \n",
        "     print(f\"Ateşiniz {derece} derece. AVM' ye girebilirsin! Maske takmayı unutma! \")"
      ]
    },
    {
      "cell_type": "markdown",
      "metadata": {
        "id": "6AEkZrDt_Te9"
      },
      "source": [
        "# Problem 5\n",
        "YetGen bir spor kulübüyle sponsorluk anlaşması yapıyor. Kulüp, sponsorluk anlaşmasına göre her YetGen liderinin beden kitle indeksini hesaplamak istiyor. Spor kulübü, beden kitle indeksini hesaplamak için YetGen Jump Python liderlerinden Berkcan ve Ahmet'i arıyor. Berkcan ve Ahmet, kulübe yardımcı olmak için bir Python programı yazıyorlar. Sende bu iki YetGen liderine destek olmak ister misin?\n",
        "\n",
        "Kullanıcıdan alınan boy ve kilo değerlerine göre beden kitle indeksini hesaplayın ve şu kurallara göre ekrana şu yazıları yazdırın.\n",
        "\n",
        "\n",
        "Beden Kitle İndeksi, kişinin ağırlığının (kg olarak) boyunun karesine (m olarak) bölünmesiyle hesaplanır.\n",
        "\n",
        "\n",
        "```\n",
        " BKİ 18.5'un altındaysa -------> Zayıf\n",
        "\n",
        " BKİ 18.5 ile 25 arasındaysa ------> Normal\n",
        "\n",
        " BKİ 25 ile 30 arasındaysa --------> Fazla Kilolu\n",
        "\n",
        " BKİ 30'un üstündeyse -------------> Obez\n",
        "```\n",
        "\n"
      ]
    },
    {
      "cell_type": "code",
      "execution_count": 29,
      "metadata": {
        "id": "t-XPI_u0_Te-"
      },
      "outputs": [
        {
          "name": "stdout",
          "output_type": "stream",
          "text": [
            "endeksiniz 26.122448979591837 tir. endeks oranınız fazla kiloludur.\n"
          ]
        }
      ],
      "source": [
        "# 5.Problemin Çözümünü Buraya Yazınız\n",
        "\n",
        "boy= float(input(\"lütfen boyunu gir:\"))          \n",
        "\n",
        "kilo= int(input(\"lütfen kilonu gir:\"))\n",
        "        \n",
        "endeks=kilo/boy**2\n",
        "\n",
        "if endeks< 18.5:\n",
        "    print(f\"endeksiniz {endeks} tir. endeks oranınız zayıftır.\")\n",
        "elif endeks > 18.5 and endeks < 25:\n",
        "      print(f\"endeksiniz {endeks} tir. endeks oranınız normaldir.\")\n",
        "elif endeks > 25 and endeks < 30:\n",
        "      print(f\"endeksiniz {endeks} tir. endeks oranınız fazla kiloludur.\")\n",
        "else :\n",
        "      print(f\"endeksiniz {endeks} tir. endeks oranınız obez.\")\n",
        "\n"
      ]
    },
    {
      "cell_type": "markdown",
      "metadata": {
        "id": "oFsvQyaO_Te-"
      },
      "source": [
        "# Problem 6\n",
        "Kullanıcıdan isim, yaş ve eğitim bilgilerini isteyip ehliyet alabilme  durumunu kontrol ediniz. \n",
        "\n",
        "Ehliyet alma koşulu en az 18 yaşında ve eğitim durumu lise ya da üniversite olmalıdır. "
      ]
    },
    {
      "cell_type": "code",
      "execution_count": 39,
      "metadata": {
        "id": "Tu2mcgco_Te-"
      },
      "outputs": [
        {
          "name": "stdout",
          "output_type": "stream",
          "text": [
            "ehliyet alabilirsin\n"
          ]
        }
      ],
      "source": [
        "# 6.Problemin Çözümünü Buraya Yazınız\n",
        "\n",
        "isim= input(\"lütfen adını gir:\")\n",
        "\n",
        "yas=int(input(\"lütfen yaşını gir:\"))\n",
        "\n",
        "egitim=input(\"lütfen eğitim bilgilerini gir:\")\n",
        "\n",
        "if yas >= 18 and egitim==\"lise\" or egitim==\"üniversite\":\n",
        "    print(\"ehliyet alabilirsin\")\n",
        "\n",
        "else:\n",
        "    print(\"ehliyet alamazsın\")\n",
        "\n"
      ]
    },
    {
      "cell_type": "markdown",
      "metadata": {
        "id": "eUkxVSAE_Te_"
      },
      "source": [
        "# Problem 7\n",
        "Bir yılın artık yıl olup olmadığını kontrol etmek için bir program yazın. \n",
        "Artık yıl kuralı:\n",
        "\n",
        "a) Eğer yılın son iki basamağı (00) ile bitmiyor ve yalnızca 4'e tam bölünüyorsa artık yıldır. Ya da, \n",
        "\n",
        "b) Eğer yıl 400'e tam bölünüyorsa artık yıldır.\n",
        "\n",
        "**Örneğin**\n",
        "```\n",
        "2017 artık yıl değildir.\n",
        "1900 artık yıl değildir\n",
        "2012 artık yıldır.\n",
        "2000 artık yıldır.\n",
        "```"
      ]
    },
    {
      "cell_type": "code",
      "execution_count": null,
      "metadata": {
        "id": "4uWh8qUL_Te_"
      },
      "outputs": [
        {
          "name": "stdout",
          "output_type": "stream",
          "text": [
            "2015 yılı artık yıl değildir.\n"
          ]
        }
      ],
      "source": [
        "# 7.Problemin Çözümünü Buraya Yazınız\n",
        "yıl= int(input(\"Lütfen bir yıl giriniz\"))\n",
        "\n",
        "if yıl % 4 ==0 and yıl % 100 !=0 :\n",
        "    print(f\"{yıl} yılı artık yıldır.\")\n",
        "elif yıl % 400 == 0 :\n",
        "    print(f\"{yıl} artık yıldır.\")\n",
        "else :\n",
        "    print(f\"{yıl} yılı artık yıl değildir.\")\n"
      ]
    },
    {
      "cell_type": "markdown",
      "metadata": {},
      "source": []
    }
  ],
  "metadata": {
    "colab": {
      "provenance": []
    },
    "kernelspec": {
      "display_name": "Python 3.10.5 64-bit",
      "language": "python",
      "name": "python3"
    },
    "language_info": {
      "codemirror_mode": {
        "name": "ipython",
        "version": 3
      },
      "file_extension": ".py",
      "mimetype": "text/x-python",
      "name": "python",
      "nbconvert_exporter": "python",
      "pygments_lexer": "ipython3",
      "version": "3.11.2"
    },
    "orig_nbformat": 4,
    "vscode": {
      "interpreter": {
        "hash": "5026d2d6e7aaaaba093def813beadff083d8733e4a511af01735cbabd156995d"
      }
    }
  },
  "nbformat": 4,
  "nbformat_minor": 0
}
