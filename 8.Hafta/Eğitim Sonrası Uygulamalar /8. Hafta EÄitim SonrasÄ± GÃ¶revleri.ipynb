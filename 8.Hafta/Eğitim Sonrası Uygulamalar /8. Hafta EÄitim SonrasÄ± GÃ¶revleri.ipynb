{
 "cells": [
  {
   "attachments": {},
   "cell_type": "markdown",
   "metadata": {},
   "source": [
    "# Problem 1\n",
    "\n",
    "Şimdi beraber kullanıcılardan aldığımız verileri işleyerek, onlara hem çıktı verecek, hem de aldığımız ve hesapladığımız verileri ileride kullanabilmek adına kaydedeceğiz.\n",
    "\n",
    "\n",
    " **Bu bir veri giriş platformu olacak**\n",
    "\n",
    "\n",
    " * kullanıcıya kaç giriş yapacağını soracağız\n",
    "* kullanıcıdan isim-soyisim, yaş, boy, kilo bilgilerini alarak VKİ hesaplayacağız\n",
    "* ardından bunları sınıflara göre kaydedeceğiz bir dosyaya kaydedeceğiz\n",
    "\n",
    "\n",
    "Sınıflar ise şu şekilde: \n",
    "* 18, 5 kg/m.'nin altında olanlar: Zayıf\n",
    "* 18.5 – 24, 9 kg/m. arasında olanlar: Normal kilolu\n",
    "* 25 – 29, 9 kg/m. arasında olanlar: Fazla kilolu\n",
    "* 30 – 39, 9 kg/m. arasında olanlar: Obez\n",
    "* 40 kg/m.'nin üzerinde olanlar: İleri derecede obez (morbid obez), olarak görülür."
   ]
  },
  {
   "cell_type": "code",
   "execution_count": null,
   "metadata": {},
   "outputs": [],
   "source": [
    "# 1.Problemin Çözümünü Buraya Yazınız\n",
    "class Kisi:\n",
    "    def __init__(self, isim, soyisim, yas, boy, kilo):\n",
    "        self.isim = isim\n",
    "        self.soyisim = soyisim\n",
    "        self.yas = yas\n",
    "        self.boy = boy\n",
    "        self.kilo = kilo\n",
    "        self.vki = self.vki_hesapla()\n",
    "        self.sinif = self.sinif_belirle()\n",
    "\n",
    "    def vki_hesapla(self):\n",
    "        boy_metre = self.boy / 100\n",
    "        vki = self.kilo / (boy_metre ** 2)\n",
    "        return vki\n",
    "\n",
    "    def sinif_belirle(self):\n",
    "        if self.vki < 18.5:\n",
    "            return \"Zayıf\"\n",
    "        elif 18.5 <= self.vki < 25:\n",
    "            return \"Normal kilolu\"\n",
    "        elif 25 <= self.vki < 30:\n",
    "            return \"Fazla kilolu\"\n",
    "        elif 30 <= self.vki < 40:\n",
    "            return \"Obez\"\n",
    "        else:\n",
    "            return \"İleri derecede obez\"\n",
    "\n",
    "def veri_giris_platformu():\n",
    "    try:\n",
    "        girdi_sayisi = int(input(\"Kaç giriş yapacaksınız? \"))\n",
    "\n",
    "        kisiler = []\n",
    "        for i in range(girdi_sayisi):\n",
    "            print(f\"\\n{i+1}. kişi için bilgileri girin:\")\n",
    "            isim = input(\"İsim: \")\n",
    "            soyisim = input(\"Soyisim: \")\n",
    "            yas = int(input(\"Yaş: \"))\n",
    "            boy = float(input(\"Boy (cm): \"))\n",
    "            kilo = float(input(\"Kilo (kg): \"))\n",
    "\n",
    "            kisi = Kisi(isim, soyisim, yas, boy, kilo)\n",
    "            kisiler.append(kisi)\n",
    "\n",
    "        dosya_adi = \"veriler.txt\"\n",
    "        with open(dosya_adi, \"w\") as dosya:\n",
    "            for kisi in kisiler:\n",
    "                dosya.write(f\"İsim: {kisi.isim}\\n\"\n",
    "                            f\"Soyisim: {kisi.soyisim}\\n\"\n",
    "                            f\"Yaş: {kisi.yas}\\n\"\n",
    "                            f\"Boy: {kisi.boy}\\n\"\n",
    "                            f\"Kilo: {kisi.kilo}\\n\"\n",
    "                            f\"VKİ: {kisi.vki}\\n\"\n",
    "                            f\"Sınıf: {kisi.sinif}\\n\\n\")\n",
    "\n",
    "        print(f\"\\nVeriler {dosya_adi} dosyasına kaydedildi.\")\n",
    "    except ValueError:\n",
    "        print(\"Hatalı giriş. Lütfen sayısal bir değer girin.\")\n",
    "\n",
    "veri_giris_platformu()"
   ]
  },
  {
   "attachments": {},
   "cell_type": "markdown",
   "metadata": {},
   "source": [
    "# Problem 2\n",
    "**YetBar - Smoothie Bank**\n",
    "---\n",
    "YetBar spor salonunun girişinde bulunan, insansız bir sağlıklı içecek otomatıdır. Kullanıcı çeşitli girdiler smoothie içeceğine koyacağı ürünleri belirleyebilir, fiyat hesaplaması yaptırabilir ya da sadece menüyü görüntüleyebilir.\n",
    "\n",
    "**Projenin Amacı:**\n",
    "\n",
    "*   Birbirini etkileyen ve bir kod içerisinde birden fazla defa başvurulacak fonksiyonların oluşturulup, \"fonksiyonel\" proglamlamak.\n",
    "*   Büyük programları yazarken, yazılımcı olarak yapabileceğimiz hatalardan kaçınmak için kontrol yöntemleri geliştirmek.\n",
    "*   Kullanıcı inputlarını ve yaptığımız hesapları, raporlamak/loglamak amacıyla kaydetmek.\n",
    "\n",
    "**Programdan Beklenen Çıktılar**\n",
    "* Program kullanıcıya temelde 2 farklı işlem yapma imkanı sağlar.\n",
    "> 1. Menüyü görüntüleme\n",
    "> 3. Satın alma\n",
    "* Satın alınan her içecek tarih, fiyat bilgisi ile kaydedilmeli ve her zaman ulaşılabilir olmalıdır.\n",
    "\n",
    "\n"
   ]
  },
  {
   "cell_type": "code",
   "execution_count": null,
   "metadata": {},
   "outputs": [],
   "source": [
    "# 2.Problemin Çözümünü Buraya Yazınız\n",
    "\n",
    "yapamadım :(((("
   ]
  }
 ],
 "metadata": {
  "kernelspec": {
   "display_name": "Python 3",
   "language": "python",
   "name": "python3"
  },
  "language_info": {
   "name": "python",
   "version": "3.10.5 (tags/v3.10.5:f377153, Jun  6 2022, 16:14:13) [MSC v.1929 64 bit (AMD64)]"
  },
  "orig_nbformat": 4,
  "vscode": {
   "interpreter": {
    "hash": "5026d2d6e7aaaaba093def813beadff083d8733e4a511af01735cbabd156995d"
   }
  }
 },
 "nbformat": 4,
 "nbformat_minor": 2
}
