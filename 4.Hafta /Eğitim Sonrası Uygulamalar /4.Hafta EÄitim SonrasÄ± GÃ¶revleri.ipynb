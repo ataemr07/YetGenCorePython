{
 "cells": [
  {
   "cell_type": "markdown",
   "metadata": {},
   "source": [
    "# Problem 1\n",
    "`ogrenciler` adında bir sözlük oluşturunuz. Kullanıcıdan döngü yardımıyla 3 öğrenci için veri girmesini isteyerek öğrencilerin sırasıyla okul numarası, isim, soy isim, telefon numarası ve doğum tarihi bilgilerini alınız. Aldığınız öğrenci bilgilerini yine aynı döngü yardımıyla `ogrenciler` adındaki sözlükte saklayınız. Daha sonra öğrenci bilgilerinin bulunduğu sözlük yapısını ekrana bastırınız.\n",
    "\n"
   ]
  },
  {
   "cell_type": "code",
   "execution_count": null,
   "metadata": {},
   "outputs": [],
   "source": [
    "# 1.Problemin Çözümünü Buraya Yazınız\n",
    "\n",
    "python\n",
    "Copy code\n",
    "ogrenciler = {}\n",
    "\n",
    "for i in range(1, 4):\n",
    "    print(f\"#{i} Öğrenci Bilgileri:\")\n",
    "    okul_no = input(\"Okul Numarası: \")\n",
    "    isim = input(\"İsim: \")\n",
    "    soyisim = input(\"Soyisim: \")\n",
    "    telefon = input(\"Telefon Numarası: \")\n",
    "    dogum_tarihi = input(\"Doğum Tarihi: \")\n",
    "\n",
    "    ogrenciler[okul_no] = {\n",
    "        \"İsim\": isim,\n",
    "        \"Soyisim\": soyisim,\n",
    "        \"Telefon\": telefon,\n",
    "        \"Doğum Tarihi\": dogum_tarihi\n",
    "    }\n",
    "\n",
    "print(\"Öğrenci Bilgileri:\")\n",
    "for okul_no, bilgiler in ogrenciler.items():\n",
    "    print(f\"Okul No: {okul_no}\")\n",
    "    for bilgi, deger in bilgiler.items():\n",
    "        print(f\"{bilgi}: {deger}\")\n",
    "    print()"
   ]
  },
  {
   "cell_type": "markdown",
   "metadata": {},
   "source": [
    "# Problem 2\n",
    "\n",
    "### a - Biraz ısınarak başlayalım!\n",
    "\n",
    "```\n",
    "numbers = [5,10,10,15,15,15,20,20,20,20]\n",
    "```\n",
    "\n",
    "Yukarıda `numbers` adında 10 elemanlı bir liste verilmiştir. Bu listenin her elemanını kontrol eden ve tekrar eden elemanları bir kez olacak şekilde başka bir listeye kopyalayan bir program yazınız. Son olarak oluşturduğunuz listeyi ekrana bastırınız.\n",
    "\n",
    "\n",
    "\n",
    "\n",
    "```\n",
    ">Output\n",
    "[5, 10, 15, 20]\n",
    "```\n"
   ]
  },
  {
   "cell_type": "code",
   "execution_count": null,
   "metadata": {},
   "outputs": [],
   "source": [
    "# 2.Problemin a Şıkkının Çözümünü Buraya Yazınız\n",
    "\n",
    "numbers = [5, 10, 10, 15, 15, 15, 20, 20, 20, 20]\n",
    "unique_numbers = []\n",
    "\n",
    "for number in numbers:\n",
    "    if number not in unique_numbers:\n",
    "        unique_numbers.append(number)\n",
    "\n",
    "print(unique_numbers)\n"
   ]
  },
  {
   "cell_type": "markdown",
   "metadata": {},
   "source": [
    "### 🌶️ b) Hadi işi biraz daha zorlaştıralım! \n",
    "\n",
    "\n",
    "Şimdiyse senden `numbers` isimli listedeki tekrar eden elemanları `repeatNumbers` adındaki listeye; tekrar etmeyen elemanları `uniqueNumbers`adındaki listeye kopyalayan yazmanı ve listeleri ekrana bastırmanı bekliyoruz\n",
    "\n",
    "```\n",
    ">Output\n",
    "Tekrar Eden Elemanlar: [10, 10, 15, 15, 15, 20, 20, 20, 20]\n",
    "Tekrar Etmeyen Elemanlar: [5]\n",
    "```"
   ]
  },
  {
   "cell_type": "code",
   "execution_count": null,
   "metadata": {},
   "outputs": [],
   "source": [
    "# 2.Problemin b Şıkkının Çözümünü Buraya Yazınız"
   ]
  },
  {
   "cell_type": "markdown",
   "metadata": {},
   "source": [
    "# Problem 3\n",
    "sn1 = {1,2,3,4,5}\n",
    "\n",
    "sn2 = {4,5,6,7,8}\n",
    "\n",
    " Verilen 2 adet küme için kesişimlerini, farklarını ve birleşimlerini bulunuz. "
   ]
  },
  {
   "cell_type": "code",
   "execution_count": null,
   "metadata": {},
   "outputs": [],
   "source": [
    "# 3.Problemin Çözümünü Buraya Yazınız\n",
    "\n",
    "sn1 = {1, 2, 3, 4, 5}\n",
    "sn2 = {4, 5, 6, 7, 8}\n",
    "\n",
    "kesisim = sn1.intersection(sn2)\n",
    "fark = sn1.difference(sn2)\n",
    "birlesim = sn1.union(sn2)\n",
    "\n",
    "print(\"Kesişim:\", kesisim)\n",
    "print(\"Fark:\", fark)\n",
    "print(\"Birleşim:\", birlesim)"
   ]
  },
  {
   "cell_type": "markdown",
   "metadata": {},
   "source": [
    "# Problem 4\n",
    "\n",
    "Buradaki işlemlerimizin tamamı stringler içindir. Aşağıda verilecek olan metodlar için kendinizin örnek yaratması gerekmektedir. \n",
    "\n",
    "Örneğin `upper` için `string` değişkeni oluştururken` k = \"BAC\"` şeklinde oluşturmayınız. Bunun yerine k değişkenini `k = \"bac`\" şeklinde oluşturmanız `upper` metodundaki değişimi görebilmeniz için daha iyi olacaktır.\n",
    "\n",
    "Bütün metodlardaki değişimin gözle görülür şekilde değişimi beklenmektedir.\n",
    "\n",
    "\n",
    "1- capitalize(), lower(), upper(), swapcase(), title(), replace()\n",
    "\n",
    "2- endswith(), startswith(), find(), index(), count()\n",
    "\n",
    "3- split(), strip(), join(), islower(), isalpha(), isdigit()\n",
    "\n",
    "\n",
    "Yukarıdaki `string` metodlarındaki değişimleri görebildiğimiz bir program yazınız.\n"
   ]
  },
  {
   "cell_type": "code",
   "execution_count": null,
   "metadata": {},
   "outputs": [],
   "source": [
    "# 4.Problemin Çözümünü Buraya Yazınız\n",
    "\n",
    "# Kullanıcıdan bir string girişi alınır\n",
    "string = input(\"Bir string giriniz: \")\n",
    "\n",
    "# capitalize() metoduyla ilk harf büyük diğer harfler küçük yapılır\n",
    "capitalized = string.capitalize()\n",
    "\n",
    "# lower() metoduyla tüm harfler küçük yapılır\n",
    "lowercase = string.lower()\n",
    "\n",
    "# upper() metoduyla tüm harfler büyük yapılır\n",
    "uppercase = string.upper()\n",
    "\n",
    "# swapcase() metoduyla büyük harfler küçük, küçük harfler büyük yapılır\n",
    "swapcased = string.swapcase()\n",
    "\n",
    "# title() metoduyla her kelimenin baş harfi büyük yapılır\n",
    "titlecased = string.title()\n",
    "\n",
    "# replace() metoduyla belirli bir karakter ya da kelime başka bir karakter ya da kelimeyle değiştirilir\n",
    "replaced = string.replace(\"a\", \"b\")\n",
    "\n",
    "# Sonuçları ekrana yazdırma\n",
    "print(\"Capitalize:\", capitalized)\n",
    "print(\"Lowercase:\", lowercase)\n",
    "print(\"Uppercase:\", uppercase)\n",
    "print(\"Swapcase:\", swapcased)\n",
    "print(\"Titlecase:\", titlecased)\n",
    "print(\"Replaced:\", replaced)\n",
    "\n",
    "# 2. kısım\n",
    "search_str = input(\"Bir arama stringi giriniz: \")\n",
    "\n",
    "# endswith() metoduyla belirtilen string ile bitip bitmediği kontrol edilir\n",
    "endswith_check = string.endswith(search_str)\n",
    "\n",
    "# startswith() metoduyla belirtilen string ile başlayıp başlamadığı kontrol edilir\n",
    "startswith_check = string.startswith(search_str)\n",
    "\n",
    "# find() metoduyla belirtilen stringin indeksini bulur (ilk bulduğu indeks)\n",
    "find_index = string.find(search_str)\n",
    "\n",
    "# index() metoduyla belirtilen stringin indeksini bulur (ilk bulduğu indeks)\n",
    "index = string.index(search_str)\n",
    "\n",
    "# count() metoduyla belirtilen stringin kaç kez geçtiğini sayar\n",
    "count = string.count(search_str)\n",
    "\n",
    "# Sonuçları ekrana yazdırma\n",
    "print(\"Endswith:\", endswith_check)\n",
    "print(\"Startswith:\", startswith_check)\n",
    "print(\"Find Index:\", find_index)\n",
    "print(\"Index:\", index)\n",
    "print(\"Count:\", count)\n",
    "\n",
    "# 3. kısım\n",
    "delimiter = input(\"Bir ayırıcı stringi giriniz: \")\n",
    "\n",
    "# split() metoduyla belirtilen ayırıcıya göre stringi parçalara böler\n",
    "splitted = string.split(delimiter)\n",
    "\n",
    "# strip() metoduyla baştaki ve sondaki boşlukları temizler\n",
    "stripped = string.strip()\n",
    "\n",
    "# join() metoduyla belirtilen ayırıcıyla parçaları birleştirir\n",
    "joined = delimiter.join(splitted)\n",
    "\n",
    "# islower() metoduyla stringin tüm harflerinin küçük olup olmadığı kontrol edilir\n",
    "islower_check = string.islower()\n",
    "\n",
    "# isalpha() metoduyla stringin yalnızca harflerden oluşup oluşmadığı kontrol edilir\n",
    "isalpha_check = string.isalpha()\n",
    "\n",
    "# isdigit() metoduyla stringin yalnızca rakamlardan oluşup oluşmadığı kontrol edilir\n",
    "isdigit_check = string.isdigit   \n",
    "\n",
    "\n",
    "."
   ]
  }
 ],
 "metadata": {
  "kernelspec": {
   "display_name": "Python 3.10.5 64-bit",
   "language": "python",
   "name": "python3"
  },
  "language_info": {
   "name": "python",
   "version": "3.10.5"
  },
  "orig_nbformat": 4,
  "vscode": {
   "interpreter": {
    "hash": "5026d2d6e7aaaaba093def813beadff083d8733e4a511af01735cbabd156995d"
   }
  }
 },
 "nbformat": 4,
 "nbformat_minor": 2
}
